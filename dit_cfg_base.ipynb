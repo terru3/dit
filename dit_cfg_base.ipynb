{
 "cells": [
  {
   "cell_type": "markdown",
   "id": "LDiiqnFVyUxL",
   "metadata": {
    "id": "LDiiqnFVyUxL"
   },
   "source": [
    "# DiT"
   ]
  },
  {
   "cell_type": "markdown",
   "id": "idxZ0lChyhWX",
   "metadata": {
    "id": "idxZ0lChyhWX"
   },
   "source": [
    "### Remark: This notebook does not use Ada-LN Zero and does not use Patel et al. CFG loss\n",
    "\n",
    "Other remarks:  \n",
    "> -We are operating in pixel space (no autoencoder)"
   ]
  },
  {
   "cell_type": "code",
   "execution_count": null,
   "id": "ADaVguyXsvpe",
   "metadata": {
    "id": "ADaVguyXsvpe"
   },
   "outputs": [],
   "source": [
    "N_CLASS = 10\n",
    "LABEL = 0  ## when generating images of a single digit\n",
    "\n",
    "UNCOND_LABEL = (\n",
    "    N_CLASS  ### unconditional token. Note this will yield n_class <- n_class + 1\n",
    ")\n",
    "## cannot use -1, which gives nn.Embedding error\n",
    "LABEL_DROPOUT = 0.2\n",
    "\n",
    "################### regular CFG\n",
    "# TRAIN_GUIDANCE = 5\n",
    "SAMPLE_GUIDANCE = 5\n",
    "\n",
    "#### 5-10 all look good\n",
    "# 0 = unconditional\n",
    "# 1 = conditional\n",
    "# > 1 = guidance"
   ]
  },
  {
   "cell_type": "code",
   "execution_count": null,
   "id": "FADcHUptHh9m",
   "metadata": {
    "id": "FADcHUptHh9m"
   },
   "outputs": [],
   "source": [
    "## Label dropout util fn to employ in train function, applied in-place\n",
    "def drop_label(labels, p):\n",
    "    \"\"\"\n",
    "    labels = batch of conditional labels\n",
    "    p = dropout prob\n",
    "    \"\"\"\n",
    "    mask = np.random.rand(*labels.shape) < p\n",
    "    labels[mask] = UNCOND_LABEL"
   ]
  },
  {
   "cell_type": "code",
   "execution_count": null,
   "id": "mryXaUHWg_7U",
   "metadata": {
    "colab": {
     "base_uri": "https://localhost:8080/"
    },
    "executionInfo": {
     "elapsed": 162,
     "status": "ok",
     "timestamp": 1710130509658,
     "user": {
      "displayName": "TERRY MING",
      "userId": "03637908485946588412"
     },
     "user_tz": 420
    },
    "id": "mryXaUHWg_7U",
    "outputId": "92d56d06-4541-4e1a-9308-f9a498298856"
   },
   "outputs": [
    {
     "name": "stdout",
     "output_type": "stream",
     "text": [
      "Model Name: dit_cfg_8_LAYERs_32_HEADs_256_EMBD_DIM_400_TMAX_MNIST\n",
      "Model will be saved every 1 epochs, and will generate images every 1 epochs\n"
     ]
    }
   ],
   "source": [
    "## Transformer architecture\n",
    "N_HEAD = 32\n",
    "N_LAYER = 8\n",
    "N_EMBD = 256\n",
    "# N_KV_HEAD = 4\n",
    "N_FF = N_EMBD * 4\n",
    "\n",
    "PATCH_SIZE = 4\n",
    "\n",
    "## Diffusion architecture\n",
    "T_MAX = 400\n",
    "BETA_MIN = 1e-4\n",
    "BETA_MAX = 0.02\n",
    "SCHEDULE = \"linear\"\n",
    "\n",
    "## Data and training\n",
    "DATASET = \"MNIST\"\n",
    "BATCH_SIZE = 64\n",
    "LR = 1e-3\n",
    "\n",
    "IMG_CHANNELS = 1 if DATASET == \"MNIST\" else 3\n",
    "IMG_SIZE = 28 if DATASET == \"MNIST\" else 32\n",
    "\n",
    "## Batch/step-level hyperparameters\n",
    "EPOCHS = 100\n",
    "SAVE_EVERY = int(EPOCHS * 0.05)  # save model every x epochs\n",
    "GENERATE_EVERY = int(EPOCHS * 0.05)  # generate image from model every x epochs\n",
    "\n",
    "### ––––TEMP–––– ###\n",
    "SAVE_EVERY = 1\n",
    "GENERATE_EVERY = 1\n",
    "### ––––TEMP–––– ###\n",
    "\n",
    "## Step-level hyperparameters\n",
    "PRINT_EVERY = 100  # print loss every x steps\n",
    "\n",
    "## Model loading\n",
    "CHECKPOINT = True  # False\n",
    "LOAD_EPOCH = 29  # None\n",
    "\n",
    "START_EPOCH = LOAD_EPOCH if LOAD_EPOCH is not None else 0\n",
    "\n",
    "# path = '/content/drive/MyDrive/DiT'\n",
    "path = \"/content/drive/Shareddrives/DSU Better Transformer/DIT\"\n",
    "\n",
    "MODEL_NAME = (\n",
    "    f\"dit_cfg_{N_LAYER}_LAYERs_{N_HEAD}_HEADs_{N_EMBD}_EMBD_DIM_{T_MAX}_TMAX_{DATASET}\"\n",
    ")\n",
    "# MODEL_NAME = f\"dit_cfg_{N_LAYER}_LAYERs_{N_HEAD}_HEADs_{N_EMBD}_EMBD_DIM_{T_MAX}_TMAX_{SCHEDULE}_{DATASET}\"\n",
    "print(\"Model Name:\", MODEL_NAME)\n",
    "print(\n",
    "    f\"Model will be saved every {SAVE_EVERY} epochs, and will generate images every {GENERATE_EVERY} epochs\"\n",
    ")"
   ]
  },
  {
   "cell_type": "markdown",
   "id": "5db8fd7e",
   "metadata": {
    "id": "5db8fd7e"
   },
   "source": [
    "# Imports"
   ]
  },
  {
   "cell_type": "code",
   "execution_count": null,
   "id": "42352838",
   "metadata": {
    "id": "42352838"
   },
   "outputs": [],
   "source": [
    "%%capture\n",
    "!pip install einops\n",
    "# !pip install torchinfo"
   ]
  },
  {
   "cell_type": "code",
   "execution_count": null,
   "id": "4a68755d",
   "metadata": {
    "id": "4a68755d"
   },
   "outputs": [],
   "source": [
    "import json\n",
    "import os\n",
    "import random\n",
    "import re\n",
    "import time\n",
    "\n",
    "import matplotlib.animation as animation\n",
    "import matplotlib.pyplot as plt\n",
    "import numpy as np\n",
    "import torch\n",
    "import torch.nn as nn\n",
    "import torch.nn.functional as F\n",
    "import torchvision.utils as vutils\n",
    "\n",
    "from einops import pack, rearrange\n",
    "from IPython.display import HTML\n",
    "from PIL import Image\n",
    "from torch.backends.cuda import sdp_kernel, SDPBackend\n",
    "from torch.utils.data import DataLoader\n",
    "\n",
    "# from torchinfo import summary\n",
    "from torchvision import datasets, transforms\n",
    "from tqdm import tqdm"
   ]
  },
  {
   "cell_type": "code",
   "execution_count": null,
   "id": "VCjVXbWfz-Og",
   "metadata": {
    "colab": {
     "base_uri": "https://localhost:8080/"
    },
    "executionInfo": {
     "elapsed": 18923,
     "status": "ok",
     "timestamp": 1710130552898,
     "user": {
      "displayName": "TERRY MING",
      "userId": "03637908485946588412"
     },
     "user_tz": 420
    },
    "id": "VCjVXbWfz-Og",
    "outputId": "4895377c-6e66-440f-f113-0d55d43043bb"
   },
   "outputs": [
    {
     "name": "stdout",
     "output_type": "stream",
     "text": [
      "Mounted at /content/drive\n"
     ]
    }
   ],
   "source": [
    "from google.colab import drive\n",
    "\n",
    "drive.mount(\"/content/drive\")"
   ]
  },
  {
   "cell_type": "markdown",
   "id": "08547899",
   "metadata": {
    "id": "08547899"
   },
   "source": [
    "# Setup"
   ]
  },
  {
   "cell_type": "code",
   "execution_count": null,
   "id": "8b67c201",
   "metadata": {
    "id": "8b67c201"
   },
   "outputs": [],
   "source": [
    "def set_seed(seed=42):\n",
    "    random.seed(seed)\n",
    "    np.random.seed(seed)\n",
    "    os.environ[\"PYTHONHASHSEED\"] = str(seed)\n",
    "    torch.manual_seed(seed)\n",
    "    torch.cuda.manual_seed(seed)\n",
    "    # torch.cuda.manual_seed_all(seed) # if multi-GPU\n",
    "    torch.backends.cudnn.deterministic = (\n",
    "        True  # only applies to CUDA convolution operations\n",
    "    )\n",
    "    torch.backends.cudnn.benchmark = False\n",
    "    # usually CuDNN has heuristics as to which algorithm to pick. cudnn.benchmark benchmarks several algorithms and picks the fastest\n",
    "    # often helpful if your input shapes are fixed and not changing a lot during training\n",
    "    # however, this means it may pick a different algorithm even when the deterministic flag is set.\n",
    "    # As such it is good practice to turn off cudnn.benchmark when turning on cudnn.deterministic\n",
    "\n",
    "\n",
    "set_seed()"
   ]
  },
  {
   "cell_type": "code",
   "execution_count": null,
   "id": "80d6225c",
   "metadata": {
    "id": "80d6225c"
   },
   "outputs": [],
   "source": [
    "device = torch.device(\"cuda\") if torch.cuda.is_available() else torch.device(\"cpu\")"
   ]
  },
  {
   "cell_type": "code",
   "execution_count": null,
   "id": "EMnRD-r0nKOv",
   "metadata": {
    "id": "EMnRD-r0nKOv"
   },
   "outputs": [],
   "source": [
    "# # for flash attention\n",
    "# backend_map = {\n",
    "#     SDPBackend.MATH: {\"enable_math\": True, \"enable_flash\": False, \"enable_mem_efficient\": False},\n",
    "#     SDPBackend.FLASH_ATTENTION: {\"enable_math\": False, \"enable_flash\": True, \"enable_mem_efficient\": False},\n",
    "#     SDPBackend.EFFICIENT_ATTENTION: {\n",
    "#         \"enable_math\": False, \"enable_flash\": False, \"enable_mem_efficient\": True}\n",
    "# }"
   ]
  },
  {
   "cell_type": "markdown",
   "id": "FcHaZF0rOJ8I",
   "metadata": {
    "id": "FcHaZF0rOJ8I"
   },
   "source": [
    "# Data"
   ]
  },
  {
   "cell_type": "code",
   "execution_count": null,
   "id": "CMpW6mjmoY0i",
   "metadata": {
    "colab": {
     "base_uri": "https://localhost:8080/"
    },
    "executionInfo": {
     "elapsed": 1890,
     "status": "ok",
     "timestamp": 1710130555027,
     "user": {
      "displayName": "TERRY MING",
      "userId": "03637908485946588412"
     },
     "user_tz": 420
    },
    "id": "CMpW6mjmoY0i",
    "outputId": "ce20e2f4-fd8d-4856-a92c-e1a8c30e3623"
   },
   "outputs": [
    {
     "name": "stdout",
     "output_type": "stream",
     "text": [
      "Downloading http://yann.lecun.com/exdb/mnist/train-images-idx3-ubyte.gz\n",
      "Downloading http://yann.lecun.com/exdb/mnist/train-images-idx3-ubyte.gz to ./data/MNIST/raw/train-images-idx3-ubyte.gz\n"
     ]
    },
    {
     "name": "stderr",
     "output_type": "stream",
     "text": [
      "100%|██████████| 9912422/9912422 [00:00<00:00, 89622141.07it/s]\n"
     ]
    },
    {
     "name": "stdout",
     "output_type": "stream",
     "text": [
      "Extracting ./data/MNIST/raw/train-images-idx3-ubyte.gz to ./data/MNIST/raw\n",
      "\n",
      "Downloading http://yann.lecun.com/exdb/mnist/train-labels-idx1-ubyte.gz\n",
      "Downloading http://yann.lecun.com/exdb/mnist/train-labels-idx1-ubyte.gz to ./data/MNIST/raw/train-labels-idx1-ubyte.gz\n"
     ]
    },
    {
     "name": "stderr",
     "output_type": "stream",
     "text": [
      "100%|██████████| 28881/28881 [00:00<00:00, 108156869.49it/s]\n"
     ]
    },
    {
     "name": "stdout",
     "output_type": "stream",
     "text": [
      "Extracting ./data/MNIST/raw/train-labels-idx1-ubyte.gz to ./data/MNIST/raw\n",
      "\n",
      "Downloading http://yann.lecun.com/exdb/mnist/t10k-images-idx3-ubyte.gz\n",
      "Downloading http://yann.lecun.com/exdb/mnist/t10k-images-idx3-ubyte.gz to ./data/MNIST/raw/t10k-images-idx3-ubyte.gz\n"
     ]
    },
    {
     "name": "stderr",
     "output_type": "stream",
     "text": [
      "100%|██████████| 1648877/1648877 [00:00<00:00, 25608816.58it/s]\n"
     ]
    },
    {
     "name": "stdout",
     "output_type": "stream",
     "text": [
      "Extracting ./data/MNIST/raw/t10k-images-idx3-ubyte.gz to ./data/MNIST/raw\n",
      "\n",
      "Downloading http://yann.lecun.com/exdb/mnist/t10k-labels-idx1-ubyte.gz\n",
      "Downloading http://yann.lecun.com/exdb/mnist/t10k-labels-idx1-ubyte.gz to ./data/MNIST/raw/t10k-labels-idx1-ubyte.gz\n"
     ]
    },
    {
     "name": "stderr",
     "output_type": "stream",
     "text": [
      "100%|██████████| 4542/4542 [00:00<00:00, 19242958.35it/s]"
     ]
    },
    {
     "name": "stdout",
     "output_type": "stream",
     "text": [
      "Extracting ./data/MNIST/raw/t10k-labels-idx1-ubyte.gz to ./data/MNIST/raw\n",
      "\n"
     ]
    },
    {
     "name": "stderr",
     "output_type": "stream",
     "text": [
      "\n"
     ]
    }
   ],
   "source": [
    "transform_fn = transforms.Compose(\n",
    "    [\n",
    "        transforms.ToTensor(),  # Convert images to PyTorch tensors and [0, 1]\n",
    "        transforms.Normalize((0.5,), (0.5,)),  # [0,1] -> [-1, 1]\n",
    "    ]\n",
    ")\n",
    "\n",
    "# Download and load data\n",
    "if DATASET == \"CIFAR-10\":\n",
    "    train_data = datasets.CIFAR10(\n",
    "        root=\"./data\", train=True, download=True, transform=transform_fn\n",
    "    )\n",
    "    val_data = datasets.CIFAR10(\n",
    "        root=\"./data\", train=False, download=True, transform=transform_fn\n",
    "    )\n",
    "elif DATASET == \"MNIST\":\n",
    "    train_data = datasets.MNIST(\n",
    "        root=\"./data\", train=True, download=True, transform=transform_fn\n",
    "    )\n",
    "    val_data = datasets.MNIST(\n",
    "        root=\"./data\", train=False, download=True, transform=transform_fn\n",
    "    )\n",
    "\n",
    "# Create data loaders\n",
    "train_loader = DataLoader(train_data, shuffle=True, batch_size=BATCH_SIZE)\n",
    "val_loader = DataLoader(val_data, shuffle=True, batch_size=BATCH_SIZE)"
   ]
  },
  {
   "cell_type": "markdown",
   "id": "S0YXkR09obkB",
   "metadata": {
    "id": "S0YXkR09obkB"
   },
   "source": [
    "# Diffusion"
   ]
  },
  {
   "cell_type": "code",
   "execution_count": null,
   "id": "QzgSyji7x1LD",
   "metadata": {
    "id": "QzgSyji7x1LD"
   },
   "outputs": [],
   "source": [
    "# extract relevant alpha/beta/etc. given timestep tensor t, reshape for compatibility with image x\n",
    "def extract(a, t, x_shape):\n",
    "    batch_size = t.shape[0]\n",
    "    out = a.gather(-1, t.cpu())\n",
    "    return out.reshape(batch_size, *((1,) * (len(x_shape) - 1))).to(t.device)\n",
    "\n",
    "\n",
    "# e.g. if x_shape is [batch_size, 3, 128, 128], then we get an output of [batch_size, 1, 1, 1]"
   ]
  },
  {
   "cell_type": "code",
   "execution_count": null,
   "id": "7b6jGMA9obKL",
   "metadata": {
    "id": "7b6jGMA9obKL"
   },
   "outputs": [],
   "source": [
    "class DDPM(nn.Module):\n",
    "    def __init__(self, t_max, beta_min, beta_max, schedule=\"linear\", s=0.008):\n",
    "\n",
    "        assert schedule in [\n",
    "            \"linear\",\n",
    "            \"cosine\",\n",
    "        ], \"beta variance schedule must be `linear` or `cosine`\"\n",
    "        if schedule == \"cosine\":\n",
    "            assert s > 0, \"cosine offset must be positive\"\n",
    "\n",
    "        super().__init__()\n",
    "        ## init variance schedule, alphas, etc.\n",
    "        self.t_max = t_max\n",
    "        self.beta_min, self.beta_max = beta_min, beta_max\n",
    "\n",
    "        ## linear schedule\n",
    "        if schedule == \"linear\":\n",
    "            self.betas = torch.linspace(beta_min, beta_max, t_max)\n",
    "        ## cosine schedule\n",
    "        elif schedule == \"cosine\":\n",
    "            # https://arxiv.org/abs/2102.09672\n",
    "            # β_t = 1 - ( a-bar_t / a-bar_{t-1}), where\n",
    "            # a-bar_t = f(t) / f(0), where\n",
    "            # f(t) = cos^2([π/2] * [((t/T) + s) /  (1+s)])\n",
    "            steps = t_max + 1\n",
    "            t = torch.linspace(0, t_max, steps)\n",
    "            ft = torch.cos(((t / t_max) + s) / (1 + s) * torch.pi * 0.5) ** 2\n",
    "            alphas_bar_t = ft / ft[0]\n",
    "            betas = 1 - (alphas_bar_t[1:] / alphas_bar_t[:-1])\n",
    "            self.betas = torch.clip(\n",
    "                betas, beta_min, beta_max\n",
    "            )  ### changed from 0.9999 to beta_max\n",
    "            ## observation: mixing cosine schedule w/ max 0.999 (rather than 0.02 max) is incompatible with current sampling code it seems\n",
    "            # (at least with ε-prediction rather than x0), yields grey blurry images when sampling\n",
    "\n",
    "        ## to parameterize p and q\n",
    "        self.alphas = 1 - self.betas\n",
    "        self.alphas_bar = torch.cumprod(self.alphas, dim=0)\n",
    "\n",
    "    def forward(self, x0, t):\n",
    "        ## i.e. q_sample\n",
    "        noise = torch.randn_like(x0)\n",
    "\n",
    "        # recall xt  = √(a-bar_t)x0 + √(1-a-bar_t)ε\n",
    "        # t will be a tensor when .forward is called, no need to create tensor version\n",
    "        alpha_bar = extract(self.alphas_bar, t, x0.shape)\n",
    "        mean = x0 * alpha_bar.sqrt()\n",
    "        std = (1 - alpha_bar).sqrt()\n",
    "        xt = mean + std * noise\n",
    "        return xt, noise\n",
    "\n",
    "    def backward(\n",
    "        self,\n",
    "        xt,\n",
    "        model,\n",
    "        labels,\n",
    "        steps=None,\n",
    "        method=\"conditional\",\n",
    "        scale=SAMPLE_GUIDANCE,\n",
    "        neg_label=UNCOND_LABEL,\n",
    "    ):\n",
    "\n",
    "        assert method in [\"conditional\", \"cfg\"], \"method must be `conditional` or `cfg`\"\n",
    "        if method == \"cfg\":\n",
    "            assert (\n",
    "                isinstance(scale, (int, float, np.integer)) and scale >= 0\n",
    "            ), \"scale must be a float greater than or equal to 0\"\n",
    "\n",
    "        if steps is None:\n",
    "            steps = self.t_max\n",
    "\n",
    "        ## i.e. p_sample in a loop\n",
    "        ## for i in reversed(range(0, timesteps)\n",
    "        ## send through model, convert predicted noise (eta) into posterior mean, return mean + std*noise\n",
    "        ## if last timestep, just return mean\n",
    "\n",
    "        ## fix variances simply as beta_t, like in paper, rather than learn\n",
    "        # note labels is a tensor already\n",
    "\n",
    "        B, C, H, W = xt.shape\n",
    "\n",
    "        ## list of how the images look after each denoising step\n",
    "        xt_denoised_list = []\n",
    "\n",
    "        if method == \"cfg\":\n",
    "            neg_labels = torch.full(\n",
    "                (B,), neg_label, dtype=torch.long, device=device\n",
    "            )  ## unconditional label, or custom negative prompt\n",
    "\n",
    "        for t in reversed(range(0, steps)):\n",
    "\n",
    "            t_tensor = torch.full((B,), t, dtype=torch.long, device=device)\n",
    "\n",
    "            beta = extract(self.betas, t_tensor, xt.shape)\n",
    "            alpha = extract(self.alphas, t_tensor, xt.shape)\n",
    "            alpha_bar = extract(self.alphas_bar, t_tensor, xt.shape)\n",
    "\n",
    "            with torch.no_grad():\n",
    "                noise_pred = model(xt, t_tensor, labels)\n",
    "            if method == \"cfg\":\n",
    "                # if input label is already unconditional, skip\n",
    "                if labels[0] == UNCOND_LABEL:\n",
    "                    pass\n",
    "                else:\n",
    "                    with torch.no_grad():\n",
    "                        neg_noise_pred = model(xt, t_tensor, neg_labels)\n",
    "                    noise_pred = scale * noise_pred + (1 - scale) * neg_noise_pred\n",
    "\n",
    "            # formula to convert predicted noise into model mean:\n",
    "            # μθ(xt, t) = (1/√a_t) * (xt - (β_t / √(1-a-bar_t)) * noise_pred)\n",
    "            mean = (1 / alpha.sqrt()) * (\n",
    "                xt - noise_pred * (beta / (1 - alpha_bar).sqrt())\n",
    "            )\n",
    "            if t == 0:\n",
    "                xt = mean  # if last step, return noiseless image\n",
    "            else:\n",
    "                noise = torch.randn_like(xt)\n",
    "                xt = mean + beta.sqrt() * noise\n",
    "\n",
    "            if (\n",
    "                t == steps - 1 or t % 20 == 0\n",
    "            ):  ## first step / every 20 steps, save partially denoised image\n",
    "                ##### TODO:change to depend on `steps`...\n",
    "\n",
    "                # normalize to [0,1] manually\n",
    "                im_min, im_max = xt.min(), xt.max()\n",
    "                image = (xt - im_min) / (im_max - im_min)\n",
    "                xt_denoised_list.append(image)\n",
    "\n",
    "        return xt, xt_denoised_list"
   ]
  },
  {
   "cell_type": "markdown",
   "id": "7b91dd4c",
   "metadata": {
    "id": "7b91dd4c"
   },
   "source": [
    "# Vision Transformer"
   ]
  },
  {
   "cell_type": "code",
   "execution_count": null,
   "id": "qvzjOTJ2kgE9",
   "metadata": {
    "id": "qvzjOTJ2kgE9"
   },
   "outputs": [],
   "source": [
    "class MLP(nn.Module):\n",
    "    def __init__(self, n_embd, n_ff, dropout=0.1):\n",
    "        super().__init__()\n",
    "        self.net = nn.Sequential(\n",
    "            nn.Linear(n_embd, n_ff),\n",
    "            nn.GELU(),\n",
    "            nn.Dropout(p=dropout),\n",
    "            nn.Linear(n_ff, n_embd),\n",
    "        )\n",
    "\n",
    "    def forward(self, x):\n",
    "        return self.net(x)"
   ]
  },
  {
   "cell_type": "code",
   "execution_count": null,
   "id": "PaUt2JQlv3Xw",
   "metadata": {
    "id": "PaUt2JQlv3Xw"
   },
   "outputs": [],
   "source": [
    "class MultiHeadAttention(nn.Module):\n",
    "    def __init__(\n",
    "        self,\n",
    "        n_embd,\n",
    "        n_head,\n",
    "        # n_kv_head,\n",
    "        device,\n",
    "        dropout=0.1,\n",
    "    ):\n",
    "        super().__init__()\n",
    "\n",
    "        self.n_embd = n_embd\n",
    "        self.n_head = n_head\n",
    "        self.head_dim = n_embd // n_head\n",
    "        self.drop = nn.Dropout(p=dropout)\n",
    "\n",
    "        # self.n_kv_head = n_kv_head\n",
    "        # self.n_repeat = self.n_head // self.n_kv_head\n",
    "\n",
    "        self.query = nn.Linear(n_embd, n_embd, bias=False)\n",
    "        self.key = nn.Linear(n_embd, n_embd, bias=False)\n",
    "        self.value = nn.Linear(n_embd, n_embd, bias=False)\n",
    "\n",
    "        # self.key = nn.Linear(n_embd, n_kv_head * self.head_dim, bias=False)\n",
    "        # self.value = nn.Linear(n_embd, n_kv_head * self.head_dim, bias=False)\n",
    "        self.out = nn.Linear(n_embd, n_embd, bias=False)\n",
    "\n",
    "        self.device = device\n",
    "\n",
    "    def split_heads(self, x, n_head):\n",
    "        B, S, D = x.size()\n",
    "        # split dimension into n_head * head_dim, then transpose the sequence length w/ n_head\n",
    "        # output: [B, n_head, S, head_dim]\n",
    "        return x.view(B, S, n_head, self.head_dim).transpose(1, 2)\n",
    "\n",
    "    def combine_heads(self, x):\n",
    "        B, _, S, head_dim = x.size()  # _ is n_head which we will merge\n",
    "        # output: [B, S, n_embd]\n",
    "        return x.transpose(1, 2).contiguous().view(B, S, self.n_embd)\n",
    "\n",
    "    def scaled_dot_product(self, q, k, v, dropout):\n",
    "        # q,k,v are [B, n_head, S, head_dim]\n",
    "        # the key transpose sets up batch multiplication s.t. wei = [B, n_head, S, S]\n",
    "        wei = q @ k.transpose(-2, -1) / np.sqrt(self.head_dim)\n",
    "        # mask is [B, 1, S, S], so simply broadcasted across each head and works as expected\n",
    "        wei = dropout(F.softmax(wei, dim=-1))\n",
    "        out = wei @ v\n",
    "        return out\n",
    "\n",
    "    def forward(self, x):\n",
    "        # x: (B, S, n_embd)\n",
    "        # Step 1 and 2: Project query, key, value, then split via reshaping\n",
    "        q = self.split_heads(self.query(x), self.n_head)\n",
    "        k = self.split_heads(self.key(x), self.n_head)\n",
    "        v = self.split_heads(self.value(x), self.n_head)\n",
    "        # k = self.split_heads(self.key(x), self.n_kv_head)\n",
    "        # v = self.split_heads(self.value(x), self.n_kv_head)\n",
    "\n",
    "        # ## GQA\n",
    "        # k, v = repeat_kv(k, v, self.n_repeat)\n",
    "        # assert (\n",
    "        #     k.shape[1] == self.n_head and v.shape[1] == self.n_head\n",
    "        # ), \"key and value n_head do not match query n_head\"\n",
    "        # # q, k, v [B, n_head, S, head_dim)\n",
    "\n",
    "        # Step 3: Compute scaled dot-product attention\n",
    "        attn = self.scaled_dot_product(q, k, v, self.drop)\n",
    "\n",
    "        # # Step 3: Compute scaled dot-product attention\n",
    "        # with sdp_kernel(**backend_map[SDPBackend.FLASH_ATTENTION]):\n",
    "        #     try:\n",
    "        #         attn = F.scaled_dot_product_attention(\n",
    "        #             q,\n",
    "        #             k,\n",
    "        #             v,\n",
    "        #             dropout_p=self.drop.p if self.device.type == \"cuda\" else 0\n",
    "        #         ) # ViT: not causal ofc\n",
    "        #     # CPU: Both fused kernels do not support non-zero dropout. (Dec 2023)\n",
    "        #     except RuntimeError:\n",
    "        #         print(\"FlashAttention is not supported. See warnings for reasons.\")\n",
    "\n",
    "        # Step 4 and 5: Concatenate attention scores, return projected output matrix\n",
    "        out = self.out(self.combine_heads(attn))  # (B, S, n_embd)\n",
    "        return out\n",
    "\n",
    "\n",
    "# # helper function for GQA\n",
    "# def repeat_kv(k, v, n_repeat):\n",
    "#     k = torch.repeat_interleave(k, repeats=n_repeat, dim=1)\n",
    "#     v = torch.repeat_interleave(v, repeats=n_repeat, dim=1)\n",
    "#     return k, v"
   ]
  },
  {
   "cell_type": "code",
   "execution_count": null,
   "id": "H61kJgPSwpNu",
   "metadata": {
    "id": "H61kJgPSwpNu"
   },
   "outputs": [],
   "source": [
    "class Block(nn.Module):\n",
    "    def __init__(\n",
    "        self,\n",
    "        n_embd,\n",
    "        n_head,\n",
    "        # n_kv_head,\n",
    "        n_ff,\n",
    "        device,\n",
    "        norm_first,\n",
    "        dropout,\n",
    "    ):\n",
    "        super().__init__()\n",
    "        self.sa = MultiHeadAttention(\n",
    "            n_embd,\n",
    "            n_head,\n",
    "            # n_kv_head,\n",
    "            device,\n",
    "            dropout,\n",
    "        )\n",
    "        self.ff = MLP(n_embd, n_ff, dropout=dropout)\n",
    "\n",
    "        self.ln1 = nn.LayerNorm(n_embd)\n",
    "        self.ln2 = nn.LayerNorm(n_embd)\n",
    "        self.norm_first = norm_first\n",
    "        self.drop = nn.Dropout(p=dropout)\n",
    "\n",
    "    def forward(self, x):\n",
    "        # residual connection (stream)\n",
    "\n",
    "        # pre layer norm\n",
    "        if self.norm_first:\n",
    "            x = x + self.drop(self.sa(self.ln1(x)))\n",
    "            x = x + self.drop(self.ff(self.ln2(x)))\n",
    "        else:\n",
    "            x = self.ln1(x + self.drop(self.sa(x)))\n",
    "            x = self.ln2(x + self.drop(self.ff(x)))\n",
    "\n",
    "        return x"
   ]
  },
  {
   "cell_type": "code",
   "execution_count": null,
   "id": "Oz4cA1S9oioV",
   "metadata": {
    "id": "Oz4cA1S9oioV"
   },
   "outputs": [],
   "source": [
    "class PatchEmbedding(nn.Module):\n",
    "    \"\"\"\n",
    "    Applies patch embeddings to an image.\n",
    "    \"\"\"\n",
    "\n",
    "    def __init__(self, patch_size, n_embd, in_channels=3):\n",
    "        super().__init__()\n",
    "\n",
    "        self.patch_size = patch_size\n",
    "        self.conv = nn.Conv2d(\n",
    "            in_channels, n_embd, kernel_size=patch_size, stride=patch_size\n",
    "        )\n",
    "        # self.num_patches = (img_size // patch_size) ** 2\n",
    "\n",
    "    def forward(self, x):\n",
    "        # (B, C, img_size, img_size) -> (B, num_patches, n_embd)\n",
    "        x = self.conv(x)  # (B, n_embd, img_size//patch_size, img_size//patch_size)\n",
    "        x = rearrange(x, \"b c h w -> b (h w) c\")\n",
    "        # equivalent to above line: x = x.flatten(2).transpose(-1, -2)\n",
    "        return x"
   ]
  },
  {
   "cell_type": "markdown",
   "id": "abpQff_poiCM",
   "metadata": {
    "id": "abpQff_poiCM"
   },
   "source": [
    "# DiT"
   ]
  },
  {
   "cell_type": "code",
   "execution_count": null,
   "id": "abYWqgJNGxCX",
   "metadata": {
    "id": "abYWqgJNGxCX"
   },
   "outputs": [],
   "source": [
    "class OutputLayer(nn.Module):\n",
    "    \"\"\"\n",
    "    The final layer of DiT. Removes timestep and label tokens, then projects (B, num_patches, n_embd) -> (B, num_patches, patch_size**2 * num_channels=C)\n",
    "    \"\"\"\n",
    "\n",
    "    def __init__(self, patch_size, n_embd, out_channels=3):\n",
    "        super().__init__()\n",
    "\n",
    "        self.linear = nn.Linear(n_embd, patch_size * patch_size * out_channels)\n",
    "        self.norm = nn.LayerNorm(n_embd)\n",
    "\n",
    "    def forward(self, x):\n",
    "        x = self.norm(x)\n",
    "        x = x[:, 2:, :]\n",
    "        x = self.linear(x)\n",
    "        return x"
   ]
  },
  {
   "cell_type": "code",
   "execution_count": null,
   "id": "ixMaVw4RIgmH",
   "metadata": {
    "id": "ixMaVw4RIgmH"
   },
   "outputs": [],
   "source": [
    "class DiT(nn.Module):\n",
    "    \"\"\"\n",
    "    Diffusion Transformer\n",
    "\n",
    "    img_size (int): Width/height of input images (assuming square)\n",
    "    \"\"\"\n",
    "\n",
    "    def __init__(\n",
    "        self,\n",
    "        n_embd,\n",
    "        n_head,\n",
    "        n_ff,\n",
    "        n_layer,\n",
    "        n_class,\n",
    "        n_channel,\n",
    "        img_size,\n",
    "        patch_size,\n",
    "        t_max,\n",
    "        beta_min,\n",
    "        beta_max,\n",
    "        schedule=\"linear\",\n",
    "        s=0.008,\n",
    "        norm_first=True,\n",
    "        device=device,\n",
    "        dropout=0,\n",
    "    ):\n",
    "        super().__init__()\n",
    "\n",
    "        self.patch_embedding = PatchEmbedding(patch_size, n_embd, in_channels=n_channel)\n",
    "\n",
    "        self.img_size = img_size\n",
    "        self.patch_size = patch_size\n",
    "        self.num_patches = (img_size // patch_size) ** 2\n",
    "\n",
    "        self.pos_embedding = nn.Parameter(\n",
    "            torch.randn(1, 2 + self.num_patches, n_embd)\n",
    "        )  ## original DiT paper uses 2D cos/sin embeddings\n",
    "        ## 2+num_patches to pack both timestep and label embedding into x\n",
    "\n",
    "        self.timestep_embedding = nn.Embedding(t_max, n_embd)\n",
    "        self.label_embedding = nn.Embedding(\n",
    "            n_class + 1, n_embd\n",
    "        )  ### typically n_class. changed to n_class+1 to add CFG\n",
    "\n",
    "        self.blocks = nn.Sequential(\n",
    "            *[\n",
    "                Block(n_embd, n_head, n_ff, device, norm_first, dropout)\n",
    "                for i in range(n_layer)\n",
    "            ]\n",
    "        )\n",
    "\n",
    "        self.mlp_head = OutputLayer(patch_size, n_embd, out_channels=n_channel)\n",
    "\n",
    "        self.drop = nn.Dropout(dropout)\n",
    "        self.device = device\n",
    "\n",
    "        self.ddpm = DDPM(t_max, beta_min, beta_max, schedule, s)\n",
    "\n",
    "    #     self.init_params()\n",
    "\n",
    "    # ### unsure if appropriate for DiT\n",
    "    # # weight initialization (Xavier uniform)\n",
    "    # def init_params(self, default_initialization=False):\n",
    "    #     if not default_initialization:\n",
    "    #         for name, p in self.named_parameters():\n",
    "    #             if p.dim() > 1:\n",
    "    #                 # excludes layer norm and biases\n",
    "    #                 nn.init.xavier_uniform_(p)\n",
    "    #             elif 'bias' in name:\n",
    "    #                 nn.init.zeros_(p)\n",
    "\n",
    "    def forward(self, x, t, label):\n",
    "        ## x = (B, num_channels, img_size, img_size)\n",
    "        ## t = (B, ) of timesteps\n",
    "        ## label = (B, ) of labels\n",
    "\n",
    "        B = x.shape[0]\n",
    "\n",
    "        x = self.patch_embedding(x)  # (B, num_patches, n_embd)\n",
    "        te = self.timestep_embedding(t).unsqueeze(1)  # (B, 1, n_embd)\n",
    "        lab = self.label_embedding(label).unsqueeze(1)  # (B, 1, n_embd)\n",
    "\n",
    "        x, _ = pack(\n",
    "            (te, lab, x), \"B * n_embd\"\n",
    "        )  # expand into dim=1 to form num_patches+2\n",
    "        x += self.pos_embedding\n",
    "        x = self.drop(x)\n",
    "        # (B, 2+num_patches, n_embd)\n",
    "\n",
    "        for block in self.blocks:\n",
    "            x = block(x)  # (B, num_patches+2, n_embd)\n",
    "\n",
    "        # last layer: remove timestep token and project to (B, num_patches, patch_size**2 * num_channels=C)\n",
    "        # unpatchify then returns img (B, C, H, W)\n",
    "        x = self.mlp_head(x)\n",
    "        img = rearrange(\n",
    "            x,\n",
    "            \"B (H W) (P1 P2 C) -> B C (H P1) (W P2)\",\n",
    "            P1=self.patch_size,\n",
    "            P2=self.patch_size,\n",
    "            H=self.img_size // self.patch_size,\n",
    "        )\n",
    "        return img"
   ]
  },
  {
   "cell_type": "markdown",
   "id": "VmIAyeTFmAex",
   "metadata": {
    "id": "VmIAyeTFmAex"
   },
   "source": [
    "# Initialization"
   ]
  },
  {
   "cell_type": "code",
   "execution_count": null,
   "id": "pVdn7-lkSTdP",
   "metadata": {
    "id": "pVdn7-lkSTdP"
   },
   "outputs": [],
   "source": [
    "set_seed()\n",
    "model = DiT(\n",
    "    N_EMBD,\n",
    "    N_HEAD,\n",
    "    # N_KV_HEAD,\n",
    "    N_FF,\n",
    "    N_LAYER,\n",
    "    n_class=N_CLASS,\n",
    "    n_channel=IMG_CHANNELS,\n",
    "    img_size=IMG_SIZE,\n",
    "    patch_size=PATCH_SIZE,\n",
    "    t_max=T_MAX,\n",
    "    beta_min=BETA_MIN,\n",
    "    beta_max=BETA_MAX,\n",
    "    schedule=SCHEDULE,\n",
    "    s=0.008,\n",
    "    norm_first=True,\n",
    "    device=device,\n",
    "    dropout=0,\n",
    ")\n",
    "\n",
    "model.to(device)\n",
    "# summary(model)\n",
    "\n",
    "criterion = nn.MSELoss()"
   ]
  },
  {
   "cell_type": "code",
   "execution_count": null,
   "id": "t424CZI9gBlx",
   "metadata": {
    "colab": {
     "base_uri": "https://localhost:8080/"
    },
    "executionInfo": {
     "elapsed": 3316,
     "status": "ok",
     "timestamp": 1710130559613,
     "user": {
      "displayName": "TERRY MING",
      "userId": "03637908485946588412"
     },
     "user_tz": 420
    },
    "id": "t424CZI9gBlx",
    "outputId": "5c6cc7e8-6eba-424f-ab27-489b11fcdea7"
   },
   "outputs": [
    {
     "name": "stdout",
     "output_type": "stream",
     "text": [
      "torch.Size([64, 1, 28, 28])\n"
     ]
    }
   ],
   "source": [
    "x = torch.randn(BATCH_SIZE, IMG_CHANNELS, IMG_SIZE, IMG_SIZE).to(device)\n",
    "t = torch.randint(T_MAX, (BATCH_SIZE,)).to(device)\n",
    "label = torch.full((BATCH_SIZE,), LABEL).to(device)\n",
    "\n",
    "print(model(x, t, label).shape)  # (B, IMG_CHANNELS, IMG_SIZE, IMG_SIZE)"
   ]
  },
  {
   "cell_type": "code",
   "execution_count": null,
   "id": "pj6UZ7tlgIpA",
   "metadata": {
    "colab": {
     "base_uri": "https://localhost:8080/"
    },
    "executionInfo": {
     "elapsed": 7,
     "status": "ok",
     "timestamp": 1710130559613,
     "user": {
      "displayName": "TERRY MING",
      "userId": "03637908485946588412"
     },
     "user_tz": 420
    },
    "id": "pj6UZ7tlgIpA",
    "outputId": "7cdeba6e-fd0d-4b26-f404-7c536046717a"
   },
   "outputs": [
    {
     "name": "stdout",
     "output_type": "stream",
     "text": [
      "Number of model parameters: 6437136\n"
     ]
    }
   ],
   "source": [
    "print(f\"Number of model parameters: {sum(p.numel() for p in model.parameters())}\")"
   ]
  },
  {
   "cell_type": "code",
   "execution_count": null,
   "id": "CbCeteo6mBhf",
   "metadata": {
    "id": "CbCeteo6mBhf"
   },
   "outputs": [],
   "source": [
    "optimizer = torch.optim.AdamW(model.parameters(), lr=LR)"
   ]
  },
  {
   "cell_type": "markdown",
   "id": "dQ3ZP6SJinlt",
   "metadata": {
    "id": "dQ3ZP6SJinlt"
   },
   "source": [
    "# ––––––––––––––––––––"
   ]
  },
  {
   "cell_type": "markdown",
   "id": "Tbo5g6rwbpvq",
   "metadata": {
    "id": "Tbo5g6rwbpvq"
   },
   "source": [
    "# Loading"
   ]
  },
  {
   "cell_type": "code",
   "execution_count": null,
   "id": "-ZMN8nZhbrBl",
   "metadata": {
    "id": "-ZMN8nZhbrBl"
   },
   "outputs": [],
   "source": [
    "def load(model, optimizer):\n",
    "    model.load_state_dict(\n",
    "        torch.load(\n",
    "            f\"{path}/model/{MODEL_NAME}_epoch_{LOAD_EPOCH}.pt\", map_location=device\n",
    "        )[\"model_state_dict\"]\n",
    "    )\n",
    "    print(\"Model loaded\")\n",
    "\n",
    "    optimizer.load_state_dict(\n",
    "        torch.load(\n",
    "            f\"{path}/model/{MODEL_NAME}_epoch_{LOAD_EPOCH}.pt\", map_location=device\n",
    "        )[\"optimizer_state_dict\"]\n",
    "    )\n",
    "    print(\"Optimizer loaded\")\n",
    "\n",
    "    with open(f\"{path}/train_logs/{MODEL_NAME}_train_losses.json\", \"r\") as f3:\n",
    "        train_losses = json.load(f3)\n",
    "\n",
    "    print(\"Train losses loaded\")\n",
    "\n",
    "    img_list = torch.load(f\"{path}/train_logs/{MODEL_NAME}_img_list.pt\")\n",
    "\n",
    "    print(\"Images loaded\")\n",
    "\n",
    "    return train_losses, img_list"
   ]
  },
  {
   "cell_type": "markdown",
   "id": "e5q_Bmyvyy8c",
   "metadata": {
    "id": "e5q_Bmyvyy8c"
   },
   "source": [
    "# Train"
   ]
  },
  {
   "cell_type": "code",
   "execution_count": null,
   "id": "8F_Ytr15nblV",
   "metadata": {
    "id": "8F_Ytr15nblV"
   },
   "outputs": [],
   "source": [
    "def train(\n",
    "    model,\n",
    "    train_loader,\n",
    "    criterion,\n",
    "    optimizer,\n",
    "    device,\n",
    "    train_loss_list=None,\n",
    "    img_list=None,\n",
    "):\n",
    "\n",
    "    train_losses = train_loss_list if train_loss_list is not None else []\n",
    "    img_list = img_list if img_list is not None else []\n",
    "    train_times = []\n",
    "\n",
    "    model.train()\n",
    "    model.to(device)\n",
    "\n",
    "    for epoch in range(START_EPOCH, EPOCHS):\n",
    "        print(f\"Epoch: {epoch+1}\")\n",
    "        for step, (img, label) in enumerate(train_loader):\n",
    "\n",
    "            img, label = img.to(device), label.to(device)\n",
    "            start = time.perf_counter()\n",
    "\n",
    "            optimizer.zero_grad()\n",
    "\n",
    "            #### diffusion forward and backward here\n",
    "            B = img.shape[0]\n",
    "            t = torch.randint(1, model.ddpm.t_max, (B,), device=device).long()\n",
    "            xt, noise = model.ddpm.forward(img, t)\n",
    "            xt, noise = xt.to(device), noise.to(device)\n",
    "\n",
    "            # label dropout\n",
    "            drop_label(label, LABEL_DROPOUT)\n",
    "\n",
    "            preds = model(xt, t.to(device), label.to(device)).float()\n",
    "\n",
    "            loss = criterion(preds, noise)\n",
    "            loss.backward()\n",
    "\n",
    "            # Monitoring gradient norm\n",
    "            grads = [\n",
    "                param.grad.detach().flatten()\n",
    "                for param in model.parameters()\n",
    "                if param.grad is not None\n",
    "            ]\n",
    "            norm = torch.cat(grads).norm()\n",
    "\n",
    "            optimizer.step()\n",
    "\n",
    "            train_times.append(time.perf_counter() - start)\n",
    "\n",
    "            if step % PRINT_EVERY == 0:\n",
    "                print(\n",
    "                    f\"Step: {step} | Train Loss: {loss.item():.5f} |\",\n",
    "                    f\"Grad Norm: {norm:.3f} | Train Batch Time: {np.mean(train_times):.3f}\",\n",
    "                )\n",
    "\n",
    "                train_losses.append(loss.item())\n",
    "\n",
    "        # save model and losses\n",
    "        if epoch % SAVE_EVERY == 0:\n",
    "            print(f\"Saving model, epoch {epoch+1}\")\n",
    "            torch.save(\n",
    "                {\n",
    "                    \"model_state_dict\": model.state_dict(),\n",
    "                    \"optimizer_state_dict\": optimizer.state_dict(),\n",
    "                },\n",
    "                f\"{path}/model/{MODEL_NAME}_epoch_{epoch+1}.pt\",\n",
    "            )\n",
    "\n",
    "            with open(f\"{path}/train_logs/{MODEL_NAME}_train_losses.json\", \"w\") as f:\n",
    "                json.dump(train_losses, f)\n",
    "\n",
    "            print(f\"Epoch {epoch+1}, model + data saved \\n\")\n",
    "\n",
    "        # generate and save images\n",
    "        if (epoch % GENERATE_EVERY == 0) or (epoch == EPOCHS - 1):\n",
    "            print(f\"Generating images, epoch {epoch+1}\")\n",
    "\n",
    "            print(f\"Digit (CFG): {LABEL}\")\n",
    "            labels = torch.full((BATCH_SIZE,), LABEL, dtype=torch.long, device=device)\n",
    "            generate_single(model, labels=labels)\n",
    "\n",
    "            print(\"Every digit (CFG):\")\n",
    "            img_list.append(generate_all_classes(model))\n",
    "            generate_all_classes_steps(model)\n",
    "\n",
    "            print(\"Unconditional:\")\n",
    "            generate_uncond(model)\n",
    "\n",
    "            torch.save(img_list, f\"{path}/train_logs/{MODEL_NAME}_img_list.pt\")\n",
    "            model.train()"
   ]
  },
  {
   "cell_type": "code",
   "execution_count": null,
   "id": "JdZ5LBOsY-iK",
   "metadata": {
    "id": "JdZ5LBOsY-iK"
   },
   "outputs": [],
   "source": [
    "def generate_single(model, labels, scale=SAMPLE_GUIDANCE, neg_label=UNCOND_LABEL):\n",
    "    \"\"\"\n",
    "    Generates a batch of images of a single class.\n",
    "    \"\"\"\n",
    "\n",
    "    model.eval()\n",
    "    noise = torch.randn(BATCH_SIZE, IMG_CHANNELS, IMG_SIZE, IMG_SIZE, device=device)\n",
    "    diffused, _ = model.ddpm.backward(\n",
    "        noise, model, labels, method=\"cfg\", scale=scale, neg_label=neg_label\n",
    "    )\n",
    "\n",
    "    imgs = vutils.make_grid(diffused, normalize=True)\n",
    "    plt.imshow(imgs.permute(1, 2, 0).cpu())\n",
    "    plt.show()\n",
    "    return imgs"
   ]
  },
  {
   "cell_type": "code",
   "execution_count": null,
   "id": "80-qQ7pnMZ6G",
   "metadata": {
    "id": "80-qQ7pnMZ6G"
   },
   "outputs": [],
   "source": [
    "def generate_all_classes(model, scale=SAMPLE_GUIDANCE, neg_label=UNCOND_LABEL):\n",
    "    \"\"\"\n",
    "    Generates rows of all classes.\n",
    "    \"\"\"\n",
    "\n",
    "    num_rows = 4\n",
    "\n",
    "    labels = torch.arange(N_CLASS, device=device).repeat(num_rows)\n",
    "    model.eval()\n",
    "    noise = torch.randn(\n",
    "        N_CLASS * num_rows, IMG_CHANNELS, IMG_SIZE, IMG_SIZE, device=device\n",
    "    )\n",
    "    diffused, _ = model.ddpm.backward(\n",
    "        noise, model, labels, method=\"cfg\", scale=scale, neg_label=neg_label\n",
    "    )\n",
    "    imgs = vutils.make_grid(\n",
    "        diffused, normalize=True, nrow=N_CLASS\n",
    "    )  # confusingly, nrow = number in each row\n",
    "    plt.imshow(imgs.permute(1, 2, 0).cpu())\n",
    "    plt.show()\n",
    "    return imgs"
   ]
  },
  {
   "cell_type": "code",
   "execution_count": null,
   "id": "ptuB-ZHBx_nI",
   "metadata": {
    "id": "ptuB-ZHBx_nI"
   },
   "outputs": [],
   "source": [
    "def generate_all_classes_steps(model, scale=SAMPLE_GUIDANCE, neg_label=UNCOND_LABEL):\n",
    "    \"\"\"\n",
    "    Generates rows of all classes.\n",
    "    \"\"\"\n",
    "\n",
    "    labels = torch.arange(N_CLASS, device=device)\n",
    "    model.eval()\n",
    "    noise = torch.randn(N_CLASS, IMG_CHANNELS, IMG_SIZE, IMG_SIZE, device=device)\n",
    "    diffused, history = model.ddpm.backward(\n",
    "        noise, model, labels, method=\"cfg\", scale=scale, neg_label=neg_label\n",
    "    )\n",
    "    history = torch.cat(history, dim=0)\n",
    "\n",
    "    imgs = vutils.make_grid(\n",
    "        history, normalize=False, nrow=N_CLASS\n",
    "    )  # confusingly, nrow = number in each row\n",
    "    plt.figure(figsize=(35, 15))\n",
    "    plt.imshow(imgs.permute(1, 2, 0).cpu())\n",
    "    plt.show()\n",
    "    return imgs"
   ]
  },
  {
   "cell_type": "code",
   "execution_count": null,
   "id": "TAGvb60nhLgl",
   "metadata": {
    "id": "TAGvb60nhLgl"
   },
   "outputs": [],
   "source": [
    "def generate_uncond(model):\n",
    "    \"\"\"\n",
    "    Generates images of random classes unconditionally.\n",
    "    NOTE: Does not use classifier-free guidance (method='cfg'), although it could with scale = 0\n",
    "    \"\"\"\n",
    "\n",
    "    labels = torch.full((BATCH_SIZE,), UNCOND_LABEL, dtype=torch.long, device=device)\n",
    "    model.eval()\n",
    "    noise = torch.randn(BATCH_SIZE, IMG_CHANNELS, IMG_SIZE, IMG_SIZE, device=device)\n",
    "    diffused, _ = model.ddpm.backward(noise, model, labels)\n",
    "    imgs = vutils.make_grid(diffused, normalize=True)\n",
    "    plt.imshow(imgs.permute(1, 2, 0).cpu())\n",
    "    plt.show()\n",
    "    return imgs"
   ]
  },
  {
   "cell_type": "code",
   "execution_count": null,
   "id": "CQOrLOaOlKuH",
   "metadata": {
    "colab": {
     "base_uri": "https://localhost:8080/",
     "height": 694
    },
    "executionInfo": {
     "elapsed": 8043,
     "status": "ok",
     "timestamp": 1709675312893,
     "user": {
      "displayName": "Daniel Mendelevitch",
      "userId": "04173565869597277198"
     },
     "user_tz": 480
    },
    "id": "CQOrLOaOlKuH",
    "outputId": "f29ca16c-11f0-493a-ccc8-b301c7d0494f"
   },
   "outputs": [
    {
     "data": {
      "image/png": "[encoded data removed]",
      "text/plain": [
       "<Figure size 640x480 with 1 Axes>"
      ]
     },
     "metadata": {},
     "output_type": "display_data"
    },
    {
     "data": {
      "text/plain": [
       "tensor([[[0.0000, 0.0000, 0.0000,  ..., 0.0000, 0.0000, 0.0000],\n",
       "         [0.0000, 0.0000, 0.0000,  ..., 0.0000, 0.0000, 0.0000],\n",
       "         [0.0000, 0.0000, 0.0851,  ..., 0.0713, 0.0000, 0.0000],\n",
       "         ...,\n",
       "         [0.0000, 0.0000, 0.0713,  ..., 0.0823, 0.0000, 0.0000],\n",
       "         [0.0000, 0.0000, 0.0000,  ..., 0.0000, 0.0000, 0.0000],\n",
       "         [0.0000, 0.0000, 0.0000,  ..., 0.0000, 0.0000, 0.0000]],\n",
       "\n",
       "        [[0.0000, 0.0000, 0.0000,  ..., 0.0000, 0.0000, 0.0000],\n",
       "         [0.0000, 0.0000, 0.0000,  ..., 0.0000, 0.0000, 0.0000],\n",
       "         [0.0000, 0.0000, 0.0851,  ..., 0.0713, 0.0000, 0.0000],\n",
       "         ...,\n",
       "         [0.0000, 0.0000, 0.0713,  ..., 0.0823, 0.0000, 0.0000],\n",
       "         [0.0000, 0.0000, 0.0000,  ..., 0.0000, 0.0000, 0.0000],\n",
       "         [0.0000, 0.0000, 0.0000,  ..., 0.0000, 0.0000, 0.0000]],\n",
       "\n",
       "        [[0.0000, 0.0000, 0.0000,  ..., 0.0000, 0.0000, 0.0000],\n",
       "         [0.0000, 0.0000, 0.0000,  ..., 0.0000, 0.0000, 0.0000],\n",
       "         [0.0000, 0.0000, 0.0851,  ..., 0.0713, 0.0000, 0.0000],\n",
       "         ...,\n",
       "         [0.0000, 0.0000, 0.0713,  ..., 0.0823, 0.0000, 0.0000],\n",
       "         [0.0000, 0.0000, 0.0000,  ..., 0.0000, 0.0000, 0.0000],\n",
       "         [0.0000, 0.0000, 0.0000,  ..., 0.0000, 0.0000, 0.0000]]],\n",
       "       device='cuda:0')"
      ]
     },
     "execution_count": 35,
     "metadata": {},
     "output_type": "execute_result"
    }
   ],
   "source": [
    "generate_all_classes(model, scale=10)"
   ]
  },
  {
   "cell_type": "markdown",
   "id": "XME6d8OrgDgP",
   "metadata": {
    "id": "XME6d8OrgDgP"
   },
   "source": [
    "### temp/archived interpolation"
   ]
  },
  {
   "cell_type": "code",
   "execution_count": null,
   "id": "iN7mfF66gEDc",
   "metadata": {
    "id": "iN7mfF66gEDc"
   },
   "outputs": [],
   "source": [
    "def interpolate(\n",
    "    model,\n",
    "    img,\n",
    "    denoise_label,\n",
    "    forward_steps=T_MAX // 2,\n",
    "    backward_steps=T_MAX // 2,\n",
    "    scale=SAMPLE_GUIDANCE,\n",
    "    neg_label=UNCOND_LABEL,\n",
    "):\n",
    "    \"\"\"\n",
    "    Generates interpolated images between input images and images of `denoise_label`.\n",
    "    \"\"\"\n",
    "    assert (\n",
    "        isinstance(forward_steps, (int, np.integer))\n",
    "        and isinstance(backward_steps, (int, np.integer))\n",
    "        and 0 <= forward_steps <= T_MAX\n",
    "        and 0 <= backward_steps <= T_MAX\n",
    "    ), \"forward and backward steps must be an integer between 0 and T_MAX inclusive\"\n",
    "\n",
    "    if len(img.shape) == 3:\n",
    "        img = img.unsqueeze(0)\n",
    "    img = img.to(device)\n",
    "\n",
    "    model.eval()\n",
    "    B = img.shape[0]\n",
    "\n",
    "    # forward\n",
    "    t = torch.full((B,), forward_steps, dtype=torch.long, device=device)\n",
    "    xt, _ = model.ddpm.forward(img, t)\n",
    "    xt = xt.to(device)\n",
    "\n",
    "    # backward\n",
    "    labels = torch.full((B,), denoise_label, dtype=torch.long, device=device)\n",
    "    diffused, _ = model.ddpm.backward(\n",
    "        xt,\n",
    "        model,\n",
    "        labels,\n",
    "        steps=backward_steps,\n",
    "        method=\"cfg\",\n",
    "        scale=scale,\n",
    "        neg_label=neg_label,\n",
    "    )\n",
    "\n",
    "    imgs = vutils.make_grid(diffused, normalize=True)\n",
    "    plt.imshow(imgs.permute(1, 2, 0).cpu())\n",
    "    plt.show()\n",
    "    return imgs"
   ]
  },
  {
   "cell_type": "code",
   "execution_count": null,
   "id": "bcb11c1a",
   "metadata": {},
   "outputs": [],
   "source": [
    "input_class = 3\n",
    "# retrieve a batch of data with this class\n",
    "imgs = []\n",
    "for img, lab in train_data:\n",
    "    if lab == input_class:\n",
    "        imgs.append(img)\n",
    "    if len(imgs) == BATCH_SIZE:\n",
    "        break\n",
    "imgs = torch.stack(imgs)\n",
    "\n",
    "interpolate(\n",
    "    model,\n",
    "    imgs,\n",
    "    denoise_label=7,\n",
    "    forward_steps=200,\n",
    "    backward_steps=200,  ### our tmax is 400.\n",
    "    # interestingly, too few forward steps adds too little noise and we retain original. very delicate\n",
    "    scale=SAMPLE_GUIDANCE,\n",
    "    neg_label=UNCOND_LABEL,\n",
    ")"
   ]
  },
  {
   "cell_type": "code",
   "execution_count": null,
   "id": "oIVY8AVOga6G",
   "metadata": {
    "id": "oIVY8AVOga6G"
   },
   "outputs": [],
   "source": [
    "# to-test: another type of interpolation:\n",
    "# # regular noising, but call ddpm.backward to denoise the original digit half-way and some new digit during the second half\n",
    "\n",
    "\n",
    "def interpolate2(\n",
    "    model,\n",
    "    img,\n",
    "    orig_label,\n",
    "    denoise_label,\n",
    "    steps_first=T_MAX // 2,\n",
    "    steps_second=T_MAX // 2,\n",
    "    scale=SAMPLE_GUIDANCE,\n",
    "    neg_label=UNCOND_LABEL,\n",
    "):\n",
    "\n",
    "    if len(img.shape) == 3:\n",
    "        img = img.unsqueeze(0)\n",
    "    img = img.to(device)\n",
    "\n",
    "    model.eval()\n",
    "    B = img.shape[0]\n",
    "\n",
    "    # forward\n",
    "    t = torch.full((B,), T_MAX - 1, dtype=torch.long, device=device)\n",
    "    xt, _ = model.ddpm.forward(img, t)\n",
    "    xt = xt.to(device)\n",
    "\n",
    "    # backward: first half—denoise regularly\n",
    "    orig_labels = torch.full((B,), orig_label, dtype=torch.long, device=device)\n",
    "    diffused, _ = model.ddpm.backward(\n",
    "        xt,\n",
    "        model,\n",
    "        orig_labels,\n",
    "        steps=steps_first,\n",
    "        method=\"cfg\",\n",
    "        scale=scale,\n",
    "        neg_label=neg_label,\n",
    "    )\n",
    "\n",
    "    # backward: second half—denoise to interpolated class\n",
    "    denoise_labels = torch.full((B,), denoise_label, dtype=torch.long, device=device)\n",
    "    diffused, _ = model.ddpm.backward(\n",
    "        diffused,\n",
    "        model,\n",
    "        denoise_labels,\n",
    "        steps=steps_second,\n",
    "        method=\"cfg\",\n",
    "        scale=scale,\n",
    "        neg_label=neg_label,\n",
    "    )\n",
    "\n",
    "    imgs = vutils.make_grid(diffused, normalize=True)\n",
    "    plt.imshow(imgs.permute(1, 2, 0).cpu())\n",
    "    plt.show()\n",
    "    return imgs\n",
    "    pass"
   ]
  },
  {
   "cell_type": "code",
   "execution_count": null,
   "id": "S8TBikf_hZeG",
   "metadata": {
    "id": "S8TBikf_hZeG"
   },
   "outputs": [],
   "source": [
    "# input_class = 3\n",
    "# # retrieve a batch of data with this class\n",
    "# imgs = []\n",
    "# for img, lab in train_data:\n",
    "#   if lab == input_class:\n",
    "#     imgs.append(img)\n",
    "#   if len(imgs) == BATCH_SIZE:\n",
    "#     break\n",
    "# imgs = torch.stack(imgs)\n",
    "\n",
    "# interpolate2(model, imgs, input_class,\n",
    "#             denoise_label=7,\n",
    "#             steps_first=200, steps_second=200,\n",
    "#             scale=SAMPLE_GUIDANCE, neg_label=UNCOND_LABEL)"
   ]
  },
  {
   "cell_type": "markdown",
   "id": "tpSapoHvdol6",
   "metadata": {
    "id": "tpSapoHvdol6"
   },
   "source": [
    "# Driver code"
   ]
  },
  {
   "cell_type": "code",
   "execution_count": null,
   "id": "PCFL1543zC5u",
   "metadata": {
    "id": "PCFL1543zC5u"
   },
   "outputs": [],
   "source": [
    "# TRAIN:\n",
    "if CHECKPOINT:\n",
    "    train_losses, img_list = load(model, optimizer)\n",
    "    train(model, train_loader, criterion, optimizer, device, train_losses, img_list)\n",
    "else:\n",
    "    train(model, train_loader, criterion, optimizer, device)"
   ]
  },
  {
   "cell_type": "markdown",
   "id": "OScFb7jr6R71",
   "metadata": {
    "id": "OScFb7jr6R71"
   },
   "source": [
    "# Loss curve"
   ]
  },
  {
   "cell_type": "code",
   "execution_count": null,
   "id": "EZxyxOQLe6Q2",
   "metadata": {
    "id": "EZxyxOQLe6Q2"
   },
   "outputs": [],
   "source": [
    "with open(f\"{path}/train_logs/{MODEL_NAME}_train_losses.json\", \"r\") as f:\n",
    "    train_losses = json.load(f)\n",
    "\n",
    "plt.figure(figsize=(8, 5))\n",
    "plt.plot(train_losses[1:])  # skip very first loss\n",
    "plt.xlabel(f\"Iterations (x {PRINT_EVERY})\")\n",
    "plt.ylabel(\"Train Loss\")\n",
    "plt.show()"
   ]
  },
  {
   "cell_type": "markdown",
   "id": "IoG3klvsdote",
   "metadata": {
    "id": "IoG3klvsdote"
   },
   "source": [
    "# Visualization of diffusion"
   ]
  },
  {
   "cell_type": "code",
   "execution_count": null,
   "id": "q052G_39vguc",
   "metadata": {
    "id": "q052G_39vguc"
   },
   "outputs": [],
   "source": [
    "img_list = torch.load(f\"{path}/train_logs/{MODEL_NAME}_img_list.pt\")"
   ]
  },
  {
   "cell_type": "markdown",
   "id": "gfRrdRLej79L",
   "metadata": {
    "id": "gfRrdRLej79L"
   },
   "source": [
    "### Animation"
   ]
  },
  {
   "cell_type": "code",
   "execution_count": null,
   "id": "8BQpAhzKusiO",
   "metadata": {
    "colab": {
     "base_uri": "https://localhost:8080/"
    },
    "executionInfo": {
     "elapsed": 10831,
     "status": "ok",
     "timestamp": 1710130805324,
     "user": {
      "displayName": "TERRY MING",
      "userId": "03637908485946588412"
     },
     "user_tz": 420
    },
    "id": "8BQpAhzKusiO",
    "outputId": "0e062827-6258-4006-9414-bbe04d75ba9e"
   },
   "outputs": [
    {
     "name": "stdout",
     "output_type": "stream",
     "text": [
      "21 torch.Size([3, 122, 302])\n"
     ]
    }
   ],
   "source": [
    "num_rows = 4\n",
    "\n",
    "labels = torch.arange(N_CLASS, device=device).repeat(num_rows)\n",
    "model.eval()\n",
    "noise = torch.randn(N_CLASS * num_rows, IMG_CHANNELS, IMG_SIZE, IMG_SIZE, device=device)\n",
    "diffused, history = model.ddpm.backward(\n",
    "    noise, model, labels, method=\"cfg\", scale=5, neg_label=UNCOND_LABEL\n",
    ")\n",
    "frames = [vutils.make_grid(img, normalize=True, nrow=N_CLASS) for img in history]\n",
    "print(len(frames), frames[0].shape)"
   ]
  },
  {
   "cell_type": "code",
   "execution_count": null,
   "id": "9XOTSYuSvYoZ",
   "metadata": {
    "colab": {
     "base_uri": "https://localhost:8080/",
     "height": 1000,
     "output_embedded_package_id": "1oseK8Y2zP9djo9fdG4KWKanGIf3Focwm"
    },
    "executionInfo": {
     "elapsed": 6022,
     "status": "ok",
     "timestamp": 1710130839994,
     "user": {
      "displayName": "TERRY MING",
      "userId": "03637908485946588412"
     },
     "user_tz": 420
    },
    "id": "9XOTSYuSvYoZ",
    "outputId": "1b2dd995-db03-4836-d109-2836de228cf2"
   },
   "outputs": [
    {
     "data": {
      "text/plain": [
       "Output hidden; open in https://colab.research.google.com to view."
      ]
     },
     "metadata": {},
     "output_type": "display_data"
    }
   ],
   "source": [
    "fig = plt.figure(figsize=(8, 8))  # assuming batch size 64\n",
    "plt.axis(\"off\")\n",
    "ims = [\n",
    "    [plt.imshow(img.permute(1, 2, 0).cpu().numpy(), animated=True)] for img in frames\n",
    "]\n",
    "anim = animation.ArtistAnimation(fig, ims, interval=1000, repeat_delay=1000, blit=True)\n",
    "\n",
    "HTML(anim.to_jshtml())"
   ]
  },
  {
   "cell_type": "markdown",
   "id": "BdssTm-nj8nP",
   "metadata": {
    "id": "BdssTm-nj8nP"
   },
   "source": [
    "### Side by side comparison"
   ]
  },
  {
   "cell_type": "code",
   "execution_count": null,
   "id": "mctAOihhe83W",
   "metadata": {
    "id": "mctAOihhe83W"
   },
   "outputs": [],
   "source": [
    "real_img, _ = next(iter(train_loader))\n",
    "\n",
    "# Plot the real images\n",
    "plt.figure(figsize=(15, 15))\n",
    "plt.subplot(1, 2, 1)\n",
    "plt.axis(\"off\")\n",
    "plt.title(\"Real Images\")\n",
    "plt.imshow(\n",
    "    np.transpose(\n",
    "        vutils.make_grid(real_img.to(device), padding=5, normalize=True).cpu(),\n",
    "        (1, 2, 0),\n",
    "    )\n",
    ")\n",
    "\n",
    "# Plot the fake images from the last saved img_list\n",
    "plt.subplot(1, 2, 2)\n",
    "plt.axis(\"off\")\n",
    "plt.title(\"Fake Images\")\n",
    "plt.imshow(img_list[-1].permute(1, 2, 0).cpu().numpy())\n",
    "plt.show()"
   ]
  }
 ],
 "metadata": {
  "accelerator": "GPU",
  "colab": {
   "gpuType": "T4",
   "provenance": []
  },
  "kernelspec": {
   "display_name": "Python 3",
   "name": "python3"
  },
  "language_info": {
   "codemirror_mode": {
    "name": "ipython",
    "version": 3
   },
   "file_extension": ".py",
   "mimetype": "text/x-python",
   "name": "python",
   "nbconvert_exporter": "python",
   "pygments_lexer": "ipython3",
   "version": "3.9.10"
  }
 },
 "nbformat": 4,
 "nbformat_minor": 5
}
