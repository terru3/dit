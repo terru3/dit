{
 "cells": [
  {
   "cell_type": "markdown",
   "id": "idxZ0lChyhWX",
   "metadata": {
    "id": "idxZ0lChyhWX"
   },
   "source": [
    "# True DiT on CIFAR (did not run)"
   ]
  },
  {
   "cell_type": "markdown",
   "id": "5db8fd7e",
   "metadata": {
    "id": "5db8fd7e"
   },
   "source": [
    "# Imports"
   ]
  },
  {
   "cell_type": "code",
   "execution_count": null,
   "id": "42352838",
   "metadata": {
    "id": "42352838"
   },
   "outputs": [],
   "source": [
    "%%capture\n",
    "!pip install einops\n",
    "# !pip install torchinfo"
   ]
  },
  {
   "cell_type": "code",
   "execution_count": null,
   "id": "4a68755d",
   "metadata": {
    "id": "4a68755d"
   },
   "outputs": [],
   "source": [
    "import json\n",
    "import time\n",
    "\n",
    "import matplotlib.animation as animation\n",
    "import matplotlib.pyplot as plt\n",
    "import numpy as np\n",
    "import torch\n",
    "import torch.nn as nn\n",
    "import torchvision.utils as vutils\n",
    "\n",
    "from IPython.display import HTML\n",
    "\n",
    "# from torchinfo import summary"
   ]
  },
  {
   "cell_type": "code",
   "execution_count": null,
   "id": "VCjVXbWfz-Og",
   "metadata": {
    "colab": {
     "base_uri": "https://localhost:8080/"
    },
    "executionInfo": {
     "elapsed": 16331,
     "status": "ok",
     "timestamp": 1709677730702,
     "user": {
      "displayName": "TERRY MING",
      "userId": "03637908485946588412"
     },
     "user_tz": 480
    },
    "id": "VCjVXbWfz-Og",
    "outputId": "d17be3d9-dfe8-4331-ba94-3fdbfe232d56"
   },
   "outputs": [
    {
     "name": "stdout",
     "output_type": "stream",
     "text": [
      "Mounted at /content/drive\n"
     ]
    }
   ],
   "source": [
    "from google.colab import drive\n",
    "\n",
    "drive.mount(\"/content/drive\")"
   ]
  },
  {
   "cell_type": "code",
   "execution_count": null,
   "id": "90a13ad3-a72d-4d18-b3ef-5fab4800b212",
   "metadata": {},
   "outputs": [],
   "source": [
    "from constants import *\n",
    "from model import AdaLNDiT\n",
    "from utils import set_seed, load_data, drop_label, device\n",
    "from train import (\n",
    "    load_model_optim_loss_imgs,\n",
    "    train,\n",
    "    generate_single,\n",
    "    generate_all_classes,\n",
    "    generate_all_classes_steps,\n",
    "    generate_uncond,\n",
    "    interpolate,\n",
    "    interpolate2,\n",
    ")\n",
    "\n",
    "DATASET = \"CIFAR-10\"\n",
    "MODEL_NAME = f\"{N_LAYER}_LAYERs_{N_HEAD}_HEADs_{N_EMBD}_EMBD_DIM_{T_MAX}_TMAX_{DATASET}\"\n",
    "MODEL_NAME = \"ada_ln_dit_cfg_\" + MODEL_NAME\n",
    "PATEL = False  ## use Patel CFG loss for training\n",
    "if PATEL:\n",
    "    TRAIN_GUIDANCE = 1\n",
    "    SAMPLE_GUIDANCE = 3"
   ]
  },
  {
   "cell_type": "markdown",
   "id": "FcHaZF0rOJ8I",
   "metadata": {
    "id": "FcHaZF0rOJ8I"
   },
   "source": [
    "# Data"
   ]
  },
  {
   "cell_type": "code",
   "execution_count": null,
   "id": "740e904f-815e-4aa3-90b5-259060a8e695",
   "metadata": {},
   "outputs": [],
   "source": [
    "train_data, val_data, train_loader, val_loader = load_data(DATASET)"
   ]
  },
  {
   "cell_type": "markdown",
   "id": "VmIAyeTFmAex",
   "metadata": {
    "id": "VmIAyeTFmAex"
   },
   "source": [
    "# Initialization"
   ]
  },
  {
   "cell_type": "code",
   "execution_count": null,
   "id": "pVdn7-lkSTdP",
   "metadata": {
    "id": "pVdn7-lkSTdP"
   },
   "outputs": [],
   "source": [
    "set_seed()\n",
    "model = AdaLNDiT(\n",
    "    N_EMBD,\n",
    "    N_HEAD,\n",
    "    # N_KV_HEAD,\n",
    "    N_FF,\n",
    "    N_LAYER,\n",
    "    n_class=N_CLASS,\n",
    "    n_channel=IMG_CHANNELS,\n",
    "    img_size=IMG_SIZE,\n",
    "    patch_size=PATCH_SIZE,\n",
    "    t_max=T_MAX,\n",
    "    beta_min=BETA_MIN,\n",
    "    beta_max=BETA_MAX,\n",
    "    schedule=SCHEDULE,\n",
    "    s=0.008,\n",
    "    norm_first=True,\n",
    "    device=device,\n",
    "    dropout=0,\n",
    ")\n",
    "\n",
    "model.to(device)\n",
    "# summary(model)\n",
    "\n",
    "criterion = nn.MSELoss()"
   ]
  },
  {
   "cell_type": "code",
   "execution_count": null,
   "id": "t424CZI9gBlx",
   "metadata": {
    "colab": {
     "base_uri": "https://localhost:8080/"
    },
    "executionInfo": {
     "elapsed": 12,
     "status": "ok",
     "timestamp": 1709677876988,
     "user": {
      "displayName": "TERRY MING",
      "userId": "03637908485946588412"
     },
     "user_tz": 480
    },
    "id": "t424CZI9gBlx",
    "outputId": "24d46296-9267-449b-ad71-74d4182503d1"
   },
   "outputs": [
    {
     "name": "stdout",
     "output_type": "stream",
     "text": [
      "torch.Size([64, 1, 28, 28])\n"
     ]
    }
   ],
   "source": [
    "x = torch.randn(BATCH_SIZE, IMG_CHANNELS, IMG_SIZE, IMG_SIZE).to(device)\n",
    "t = torch.randint(T_MAX, (BATCH_SIZE,)).to(device)\n",
    "label = torch.full((BATCH_SIZE,), LABEL).to(device)\n",
    "\n",
    "print(model(x, t, label).shape)  # (B, IMG_CHANNELS, IMG_SIZE, IMG_SIZE)"
   ]
  },
  {
   "cell_type": "code",
   "execution_count": null,
   "id": "pj6UZ7tlgIpA",
   "metadata": {
    "colab": {
     "base_uri": "https://localhost:8080/"
    },
    "executionInfo": {
     "elapsed": 9,
     "status": "ok",
     "timestamp": 1709677876989,
     "user": {
      "displayName": "TERRY MING",
      "userId": "03637908485946588412"
     },
     "user_tz": 480
    },
    "id": "pj6UZ7tlgIpA",
    "outputId": "1e947e74-6ea1-4cf9-e7a6-70c428d247d7"
   },
   "outputs": [
    {
     "name": "stdout",
     "output_type": "stream",
     "text": [
      "Number of model parameters: 9718032\n"
     ]
    }
   ],
   "source": [
    "print(f\"Number of model parameters: {sum(p.numel() for p in model.parameters())}\")"
   ]
  },
  {
   "cell_type": "code",
   "execution_count": null,
   "id": "CbCeteo6mBhf",
   "metadata": {
    "id": "CbCeteo6mBhf"
   },
   "outputs": [],
   "source": [
    "optimizer = torch.optim.AdamW(model.parameters(), lr=LR)"
   ]
  },
  {
   "cell_type": "markdown",
   "id": "dQ3ZP6SJinlt",
   "metadata": {
    "id": "dQ3ZP6SJinlt"
   },
   "source": [
    "# ––––––––––––––––––––"
   ]
  },
  {
   "cell_type": "markdown",
   "id": "e5q_Bmyvyy8c",
   "metadata": {
    "id": "e5q_Bmyvyy8c"
   },
   "source": [
    "# Train"
   ]
  },
  {
   "cell_type": "markdown",
   "id": "tpSapoHvdol6",
   "metadata": {
    "id": "tpSapoHvdol6"
   },
   "source": [
    "# Driver code"
   ]
  },
  {
   "cell_type": "code",
   "execution_count": null,
   "id": "13eb612e-3972-4cbc-bd73-f5ec08b20268",
   "metadata": {},
   "outputs": [],
   "source": [
    "if CHECKPOINT:\n",
    "    train_losses, img_list = load_model_optim_loss_imgs(model, optimizer, MODEL_NAME)\n",
    "    train(\n",
    "        model,\n",
    "        train_loader,\n",
    "        criterion,\n",
    "        optimizer,\n",
    "        device,\n",
    "        MODEL_NAME,\n",
    "        PATEL,\n",
    "        TRAIN_GUIDANCE,\n",
    "        SAMPLE_GUIDANCE,\n",
    "        train_losses=train_losses,\n",
    "        img_list=img_list,\n",
    "    )\n",
    "else:\n",
    "    train(\n",
    "        model,\n",
    "        train_loader,\n",
    "        criterion,\n",
    "        optimizer,\n",
    "        device,\n",
    "        MODEL_NAME,\n",
    "        PATEL,\n",
    "        TRAIN_GUIDANCE,\n",
    "        SAMPLE_GUIDANCE,\n",
    "    )"
   ]
  },
  {
   "cell_type": "markdown",
   "id": "OScFb7jr6R71",
   "metadata": {
    "id": "OScFb7jr6R71"
   },
   "source": [
    "# Loss curve"
   ]
  },
  {
   "cell_type": "code",
   "execution_count": null,
   "id": "EZxyxOQLe6Q2",
   "metadata": {
    "id": "EZxyxOQLe6Q2"
   },
   "outputs": [],
   "source": [
    "with open(f\"{path}/train_logs/{MODEL_NAME}_train_losses.json\", \"r\") as f:\n",
    "    train_losses = json.load(f)\n",
    "\n",
    "plt.figure(figsize=(8, 5))\n",
    "plt.plot(train_losses[1:])  # skip very first loss\n",
    "plt.xlabel(f\"Iterations (x {PRINT_EVERY})\")\n",
    "plt.ylabel(\"Train Loss\")\n",
    "plt.show()"
   ]
  },
  {
   "cell_type": "markdown",
   "id": "IoG3klvsdote",
   "metadata": {
    "id": "IoG3klvsdote"
   },
   "source": [
    "# Visualization of diffusion"
   ]
  },
  {
   "cell_type": "code",
   "execution_count": null,
   "id": "q052G_39vguc",
   "metadata": {
    "id": "q052G_39vguc"
   },
   "outputs": [],
   "source": [
    "img_list = torch.load(f\"{path}/train_logs/{MODEL_NAME}_img_list.pt\")"
   ]
  },
  {
   "cell_type": "markdown",
   "id": "gfRrdRLej79L",
   "metadata": {
    "id": "gfRrdRLej79L"
   },
   "source": [
    "### Animation"
   ]
  },
  {
   "cell_type": "code",
   "execution_count": null,
   "id": "sZUeHnsge7vd",
   "metadata": {
    "id": "sZUeHnsge7vd"
   },
   "outputs": [],
   "source": [
    "fig = plt.figure(figsize=(8, 8))  # assuming batch size 64\n",
    "plt.axis(\"off\")\n",
    "ims = [\n",
    "    [plt.imshow(img.permute(1, 2, 0).cpu().numpy(), animated=True)] for img in img_list\n",
    "]\n",
    "anim = animation.ArtistAnimation(fig, ims, interval=1000, repeat_delay=1000, blit=True)\n",
    "\n",
    "HTML(anim.to_jshtml())"
   ]
  },
  {
   "cell_type": "markdown",
   "id": "BdssTm-nj8nP",
   "metadata": {
    "id": "BdssTm-nj8nP"
   },
   "source": [
    "### Side by side comparison"
   ]
  },
  {
   "cell_type": "code",
   "execution_count": null,
   "id": "mctAOihhe83W",
   "metadata": {
    "id": "mctAOihhe83W"
   },
   "outputs": [],
   "source": [
    "real_img, _ = next(iter(train_loader))\n",
    "\n",
    "# Plot the real images\n",
    "plt.figure(figsize=(15, 15))\n",
    "plt.subplot(1, 2, 1)\n",
    "plt.axis(\"off\")\n",
    "plt.title(\"Real Images\")\n",
    "plt.imshow(\n",
    "    np.transpose(\n",
    "        vutils.make_grid(real_img.to(device), padding=5, normalize=True).cpu(),\n",
    "        (1, 2, 0),\n",
    "    )\n",
    ")\n",
    "\n",
    "# Plot the fake images from the last saved img_list\n",
    "plt.subplot(1, 2, 2)\n",
    "plt.axis(\"off\")\n",
    "plt.title(\"Fake Images\")\n",
    "plt.imshow(img_list[-1].permute(1, 2, 0).cpu().numpy())\n",
    "plt.show()"
   ]
  }
 ],
 "metadata": {
  "accelerator": "GPU",
  "colab": {
   "gpuType": "T4",
   "provenance": []
  },
  "kernelspec": {
   "display_name": "Python 3 (ipykernel)",
   "language": "python",
   "name": "python3"
  },
  "language_info": {
   "codemirror_mode": {
    "name": "ipython",
    "version": 3
   },
   "file_extension": ".py",
   "mimetype": "text/x-python",
   "name": "python",
   "nbconvert_exporter": "python",
   "pygments_lexer": "ipython3",
   "version": "3.11.5"
  }
 },
 "nbformat": 4,
 "nbformat_minor": 5
}
